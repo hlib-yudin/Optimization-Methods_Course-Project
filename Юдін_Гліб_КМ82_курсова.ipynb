{
  "nbformat": 4,
  "nbformat_minor": 0,
  "metadata": {
    "kernelspec": {
      "name": "python3",
      "display_name": "Python 3"
    },
    "colab": {
      "name": "Юдін_Гліб_КМ82_курсова.ipynb",
      "provenance": [],
      "collapsed_sections": []
    },
    "language_info": {
      "name": "python"
    }
  },
  "cells": [
    {
      "cell_type": "markdown",
      "metadata": {
        "id": "vdaqf6vgTTg4"
      },
      "source": [
        "<left>\n",
        "    <img src=\"https://kpi.ua/files/images/kpi.png\" width=\"300\" alt=\"kpi logo\"  />\n",
        "</left>"
      ]
    },
    {
      "cell_type": "markdown",
      "metadata": {
        "id": "y2VgPk2mTThF"
      },
      "source": [
        "# Тема курсової роботи: **Оптимізація роботи ліфта**"
      ]
    },
    {
      "cell_type": "markdown",
      "metadata": {
        "id": "jkRBtAnQTThK"
      },
      "source": [
        "Юдін Гліб, КМ-82  \n",
        "Курсова робота з предмету \"Методи оптимізації\" на тему \"Оптимізація роботи ліфта\"  \n",
        "Керівник: доктор фізико-математичних наук Норкін Богдан Володимирович"
      ]
    },
    {
      "cell_type": "markdown",
      "metadata": {
        "id": "CHwOXFUpTThK"
      },
      "source": [
        "# Зміст"
      ]
    },
    {
      "cell_type": "markdown",
      "metadata": {
        "id": "bHSc4iksTThP"
      },
      "source": [
        "* Анотація\n",
        "* Вступ\n",
        "* Матеріали і методи \n",
        "* Розв'язання задачі \n",
        "  * Імпорт необхідних бібліотек\n",
        "  * Визначення констант\n",
        "  * Визначення функцій\n",
        "  * Обчислення\n",
        "  * Моделювання потоку пасажирів \n",
        "* Висновки\n",
        "* Автори\n",
        "* Використані джерела\n",
        "\n"
      ]
    },
    {
      "cell_type": "markdown",
      "metadata": {
        "id": "G46n-9a6AOld"
      },
      "source": [
        "# Анотація"
      ]
    },
    {
      "cell_type": "markdown",
      "metadata": {
        "id": "M6y1ouhjA5R_"
      },
      "source": [
        "В даній роботі розроблюється та реалізується алгоритм для вирішення, на який поверх повинен поїхати ліфт, застосовуючи методи з теорії оптимізації."
      ]
    },
    {
      "cell_type": "markdown",
      "metadata": {
        "id": "jMUKBzRtATok"
      },
      "source": [
        "# Вступ\n"
      ]
    },
    {
      "cell_type": "markdown",
      "metadata": {
        "id": "9BLxATjFAyKt"
      },
      "source": [
        "Ліфт став майже невід'ємною частиною життя більшості людей, що живуть у містах. Ним користуються у житлових будинках, в офісних, у торговельних центрах, у лікарнях, в університетах тощо. А тому постає питання в тому, щоб оптимізувати роботу ліфта (для того щоб люди не витрачали занадто довго часу на очікування ліфта та на саму поїздку). Оскільки у житлових будинках ліфт найчастіше їде або з першого поверху, або на перший поверх, то спеціально для такого режиму роботу було розроблено окремий алгоритм: спершу забирати пасажирів з найвищих поверхів, потім по дорозі вниз до 1-го поверху підбирати інших пасажирів. Якщо ж ліфт їде з першого поверху, то спочатку доставити усіх пасажирів з нижніх поверхів і вкінці -- з верхніх. Але в інших типах будівель (офіси, лікарні, торговельні центри тощо) режим роботи ліфта інший: він не так часто їде на 1-ий поверх, а частіше доставляє пасажирів на інші поверхи. А отже, алгоритм для житлових будинків тут буде неефективним. Таким чином, є потреба в розробці окремого алгоритму, за яким ліфт працював би ефективніше, ніж у житлових будинках. Будемо розглядати такий ліфт, при виклику якого вводиться номер поверху, на який треба доставити пасажира (тобто ліфт завчасно знає, з якого поверху і на який треба поїхати, що дозволить йому одразу прокласти оптимальний маршрут). Такі ліфти поки не набули популярності, але, можливо, це тому, що ще не було розроблено ефективних алгоритмів для них. Для реалізації цього завдання застосуємо знання і навички з теорії оптимізації."
      ]
    },
    {
      "cell_type": "markdown",
      "metadata": {
        "id": "imKWkeOrAWJ1"
      },
      "source": [
        "# Матеріали і методи \n",
        "\n",
        "Насамперед, оскільки це задача оптимізації, необхідно вирішити, що саме буде оптимізуватися та за допомогою чого (тобто необхідно визначити незалежні змінні, цільову функцію та обмеження). Логічно, що необхідно оптимізувати час (бо треба доставити усіх пасажирів якомога швидше), а в якості незалежних змінних обрати поверхи, на які повинен поїхати ліфт. Але виникає ряд проблем, що потребують вирішення:\n",
        "* який саме час слід оптимізувати? Час роботи ліфта, сумарний/середній/максимальний час поїздки усіх пасажирів, час очікування на ліфт?\n",
        "* поверхи -- це цілі числа, тож які методи ліпше підійдуть для такого типу даних?\n",
        "* не всі комбінації поверхів можна вважати коректними: наприклад, ліфт не може висадити пасажира, якого ще не забрав, або забрати пасажира, якщо в ліфті вже знаходиться максимально дозволена кількість людей. Як із цим працювати?\n",
        "\n",
        "\n",
        "Було складено наступні об'єкти для формалізації даної задачі:\n",
        "* n -- кількість пасажирів, яких необхідно доставити\n",
        "* x -- вектор невідомих, а саме -- номерів поверхів, на які повинен поїхати ліфт. Оскільки кожен з n пасажирів відправляється з одного поверху на інший, то вектор х має розмірність 2n\n",
        "* $x^{(j)}$ -- j-тий поверх з послідовності поверхів (j-тий елемент вектора х)\n",
        "* $x^{(0)}$ -- поверх, з якого ліфт починає роботу\n",
        "* s -- час, за який ліфт проїжджає один поверх\n",
        "* $a_i, b_i$ -- поверх, з якого і на який вирушає і-тий пасажир\n",
        "* $t_i$ -- скільки часу вже чекає і-тий пасажир\n",
        "* задача оптимізації -- мінімізувати функцію $f(x) = s \\sum_{j=1}^{2n}|x^{(j)} - x^{(j-1)}|$ -- загальний час роботи ліфта (бо $s\\:|x^{(j)} - x^{(j-1)}|$ -- це час, який ліфт витрачає на поїздку з попереднього поверха на наступний). Логіка була наступною: чим менше загальний час роботи ліфта, тим менше час поїздки кожного пасажира окремо. Ця функція є унімодальною, тож із нею можна працювати, її точка мінімуму -- для всіх j $x^{(j)} = x^{(0)}$.\n",
        "* p -- рекомендований час, за який пасажир має дочекатися ліфта\n",
        "* q -- рекомендований час, який пасажир має загалом витратити (це включає час очікування ліфта та самої поїздки)\n",
        "* r -- час зупинки ліфта (тобто час на те, щоб висадити пасажирів і забрати нових)\n",
        "* обмеження доволі громіздкі, тому не будемо їх записувати. Було складено три обмеження: обмеження часу очікування на ліфт, обмеження на загальний витрачений час (нерівності) та обмеження цілочисельності змінних і коректності послідовності поверхів (рівності нулю).\n",
        "\n",
        "Для знаходження точки мінімуму було обрано метод штрафних функцій, а саме -- метод зовнішньої точки з використанням методу Нелдера-Міда. Але після реалізації цього алгоритму виникла наступна проблема: через наявність обмежень штрафна функція виявилася неунімодальною, а отже, вона застрягала в локальному мінімумі. І справді, припустимо, що алгоритм повернув послідовність поверхів 2-4-6-8. Якщо ми збільшимо чи зменшимо будь-який її член, то отримаємо некоректну послідовність (наприклад, 1-4-6-8 некоректна, бо жоден пасажир не їде з 1-го поверху/на 1-ий поверх). Більше того, цілком можливо, що на деякому етапі алгоритму виявиться, що допустимої області взагалі не існує (якщо так склалося, що деякий пасажир чекає ліфт довше, ніж p секунд). Тож було вирішено відмовитися від даного методу та розглянути задачу як задачу цілочисельної оптимізації (а точніше -- комбінаторної, бо ми розглядаємо перестановки поверхів). Це дасть ліпший результат, оскільки ми будемо обирати оптимальну послідовність з множини вже дозволених послідовностей поверхів.\n",
        "\n",
        "-------------------------------\n",
        "\n",
        "Комбінаторні задачі є дуже складними у плані затрат обчислювальних ресурсів. В даній роботі необхідно знайти оптимальну перестановку з 2n поверхів, а таких перестановок існує (2n)!. Навіть для невеликої кількості пасажирів кількість перестановок буде дуже великою: при n = 5 перестановок буде 10! = 3628000. Тому варто скористатися спеціальними методами і алгоритмами.  Загалом методи оптимізації цілочисельних задач розділяють на три типи: \n",
        "1. методи звичайного нелінійного програмування, в яких отриманий розв'язок округлюється до цілих значень (цей варіант вже було використано, причому не успішно)\n",
        "2. точні методи -- знаходять точний розв'язок. До них належать методи Гоморі та метод гілок і меж\n",
        "3. еврістичні методи -- знаходять наближений розв'язок, але за значно менший час\n",
        "\n",
        "Було вирішено розробити метод, який поєднує в собі ідею точного методу (а саме -- методу гілок і меж) та прийоми еврістичних методів (а саме -- ідею жадібного алгоритму). Суть методу гілок і меж (в даній роботі) полягає в розбитті множини усіх перестановок поверхів на окремі підмножини: ті, які містять деякий поверх на j-тій позиції (j = 1...2n) і які не містять. Для кожної такої підмножини оцінюється нижня межа цільової функції, а неконкурентноспроможні гілки відкидаються (що дозволяє не перебирати усі перестановки поверхів). Питання в тому, який саме поверх обрати -- тут використовується ідея жадібного алгоритму. Загалом вона полягає в тому, щоб на кожному кроці обирати варіант, який є оптимальним саме для цього кроку і який дає найліпший результат саме на цьому кроці. В контексті даного проєкту це означає наступне: нехай з k доступних поверхів треба обрати найліпший, на який далі поїде ліфт. Перебираємо усі k поверхів; нехай зараз розглядається і-тий поверх. Для кожного пасажира припускаємо, що після цього і-того поверху ліфт поїде на потрібний пасажиру поверх. Далі обчислюємо нижню межу цільової функції для кожного пасажира окремо, а потім -- для всіх пасажирів разом. Обираємо той поверх, де отримане значення найменше.\n",
        "\n",
        "Щодо цільових функцій: оскільки тепер усі незалежні змінні дискретні та метод оптимізації інший, то можна розглядати більш складні неунімодальні функції. Щоб позбутися обмежень на час очікування ліфта і на загальний витрачений час, їх можна врахувати в самій цільовій функції. Нехай необхідно мінімізувати час очікування на ліфт кожного пасажира, а також загальний витрачений час кожного пасажира. Оскільки пасажирів багато, а цільова функція одна, то від цих значень часу варто взяти середнє арифметичне або максимум. Окрім цього, необхідно в цільовій функції певним чином об'єднати час очікування і загальний час. Найпростіший спосіб -- додати ці два значення, але треба взяти до уваги, що зазвичай час очікування на ліфт менший, ніж загальний час, а отже, цей доданок матиме менший вплив на цільову функцію. Рішення -- помножити цей доданок на значення q/p. Таким чином, якщо час очікування ліфта -- p секунд, то після множення на коефіцієнт отримаємо p * q / p = q секунд -- тепер перший доданок має такий самий вплив, як і другий, що нам і потрібно. Отже, отримуємо наступну задачу оптимізації: \n",
        "\n",
        "$min f(x) = \\underset{i}{max} \\;|\\; \\underset{i}{mean} \\: \\left(s\\dfrac{q}{p} \\sum_{j=1}^{k: x^{(k)} = a_i} |x^{(j)} - x^{(j-1)}| \\;+\\; s \\sum_{j=1}^{l: x^{(l)} = b_i} |x^{(j)} - x^{(j-1)}| \\right)$\n",
        "\n",
        "Значення у дужках -- це вартість для кожного пасажира. Вона складається з двох сум: перша -- це час очікування на ліфт, помножений на ваговий коефіцієнт. Друга -- це загальний витрачений час (тобто на очікування ліфта і на саму поїздку). Також необхідно врахувати, що послідовності поверхів мають бути коректними (не їхати туди, куди не треба) та не повинно бути перевантаження ліфта. Ще необхідно буде вирішити, яку ж саме агрегаційну функцію слід взяти: середнє чи максимум.\n",
        "\n"
      ]
    },
    {
      "cell_type": "markdown",
      "metadata": {
        "id": "NNm4GtIYBQDs"
      },
      "source": [
        "# Розв'язання задачі\n"
      ]
    },
    {
      "cell_type": "markdown",
      "metadata": {
        "id": "U3yNA4-2BhX9"
      },
      "source": [
        "Програму для знаходження оптимальної послідовності поверхів буде зручно оформити з застосуванням класів:\n",
        "\n",
        "**Floor** -- поверх. Містить поля:\n",
        "* **number** -- номер поверху \n",
        "* **from_bool** -- чи відправляються з цього поверху? True, якщо так, False, якщо на цей поверх їдуть, None, якщо це початковий поверх \n",
        "\n",
        "Містить методи: \n",
        "* **is_allowed** -- чи можна поїхати на цей поверх. Можна, якщо ліфт ще не перевантажено і якщо ліфт забирає декого з цього поверху або доставляє когось на цей поверх.\n",
        "\n",
        "----\n",
        "\n",
        "\n",
        "**Passenger** -- пасажир. Містить поля: \n",
        "* **inside_lift** -- чи знаходиться пасажир всередині ліфта? True/False\n",
        "* **time_waiting** -- скільки часу пасажир очікує на ліфт\n",
        "* **time_total** -- скільки часу загалом витратив пасажир\n",
        "* **floor_from** -- поверх, з якого відправляється пасажир\n",
        "* **floor_to** -- поверх, на який їде пасажир\n",
        "* **cost** -- вартість для даного пасажира, що обчислюється на основі витраченого часу\n",
        "\n",
        "Містить методи:\n",
        "* **update_cost** -- вручну оновити вартість пасажира.\n",
        "\n",
        "----\n",
        "\n",
        "**Node** -- вузол графа обчислень (метод гілок і меж зручно зображати за допомогою графа, в якому кожен вузол -- це частина послідовності чи повна послідовність поверхів). Містить поля:\n",
        "* **experiment** -- експеримент (про це пізніше)\n",
        "* **current_floor** -- поверх, на якому зараз знаходиться ліфт\n",
        "* **cost_lower_bound** -- нижня межа значення цільової функції для даної послідовності, що будується\n",
        "* **available_floors** -- список поверхів, на які ще треба поїхати\n",
        "* **passengers** -- список пасажирів, яких ще не доставили\n",
        "* **floor_sequence** -- частина послідовності поверхів, яка вже побудована (і яку ми будемо доповнювати новими поверхами)\n",
        "* **costs_of_arrived** -- список вартостей вже обслужених пасажирів\n",
        "* **passengers_in_lift** -- список пасажирів, які зараз знаходяться в ліфті\n",
        "\n",
        "Містить методи:\n",
        "* **sort_floors** -- реалізує ідею жадібного алгоритму. Сортує поверхи за тим, як зміниться значення цільової функції, якщо ми оберемо даний поверх. Перший елемент цього списку -- найліпший, останній -- найгірший\n",
        "* **build_best_sequence** -- маючи готовий початок послідовності і найліпший поверх на даний момент, продовжує будувати послідовність поверхів через рекурсію\n",
        "* **main** -- збирає ці методи докупи. Спочатку знаходить найліпший поверх, потім будує повну послідовність з цим поверхом. Далі намагається побудувати послідовності з рештою поверхів і порівнює, чи стало ліпше.\n",
        "\n",
        "----\n",
        "\n",
        "**Experiment** -- об'єкт, що контролює весь процес побудови послідовності поверхів. Містить усі поля, які містить клас Node, а також:\n",
        "* **mode** -- режим роботи, відповідає за тип агрегаційної функції в цільовій функції. Може бути \"max\" чи \"mean\"\n",
        "* **best_cost** -- найменша вартість повної(!) послідовності поверхів на даний момент. За замовчуванням дорівнює нескінченності\n",
        "* **start_time** -- час початку роботи алгоритму\n",
        "\n",
        "Містить методи:\n",
        "* **start** -- починає роботу алгоритму (створює перший вузол графа обчислень і запускає його функцію побудови послідовностей поверхів)\n",
        "\n",
        "----\n",
        "\n",
        "Опишемо, як саме працює алгоритм. Спочатку наша послідовність поверхів складається лише з початкового поверху, на якому знаходиться ліфт. Викликаємо функцію sort_floors. Вона перебирає усі доступні і дозволені поверхи, для кожного поверха і для кожного пасажира знаходить нижню межу вартості пасажира, потім обчислює середнє/максимум вартостей пасажирів і сортує поверхи за порядком зростання вартості. Далі функція build_best_sequence додає найліпший поверх у послідовність і оновлює дані кожного пасажира: його час очікування/загальний час, його вартість, чи зайшов він у ліфт, чи вийшов з ліфта, скільки тепер пасажирів у ліфті. Вона рекурсивно викликає сама себе і таким чином будує повну послідовність поверхів. Ми побудували послідовність з найліпшим поверхом, але цілком можливо, що використання інших поверхів дасть ліпший результат. Тому також будуємо інші послідовності і постійно перевіряємо, чи перевищує нижня межа вартості інших послідовностей вартість повної, готової послідовності поверхів. Якщо перевищує, то ця нова послідовність вже точно не стане ліпшою -- перестаємо її розглядати, переходимо до інших. Якщо ми побудували нову послідовність до кінця і її вартість виявилася меншою -- чудово, ми знайшли ще ліпшу перестановку поверхів, зберігаємо її!\n",
        "\n",
        "Алгоритм працює в режимі \"max\" швидше, ніж у режимі \"mean\", бо він може встановити, що послідовність не вигідна, ще до того, як послідовність добудується до кінця (наприклад, якщо максимум чотирьох додатних чисел перевищує деяке значення, то максимум з шести чисел також буде перевищувати). Гірша ситуація з методом \"mean\", оскільки він вимушений будувати всі послідовності до кінця -- а отже, фактично виконувати повний перебір усіх можливих перестановок, що дуже довго. Рішення -- зупинити роботу алгоритму через деякий час після початку роботи. Отриманий розв'язок може не бути оптимальним, але, в силу застосування жадібного алгоритму, бути близьким до оптимального.\n",
        "\n",
        "\n",
        "\n",
        "\n"
      ]
    },
    {
      "cell_type": "markdown",
      "metadata": {
        "id": "S4t5rpwITThQ"
      },
      "source": [
        "----"
      ]
    },
    {
      "cell_type": "markdown",
      "metadata": {
        "id": "xS8UOiQOTThR"
      },
      "source": [
        "## Імпорт необхідних бібліотек"
      ]
    },
    {
      "cell_type": "code",
      "metadata": {
        "id": "htHYiNdDTTha"
      },
      "source": [
        "import numpy as np\n",
        "import itertools\n",
        "import time\n",
        "import random\n",
        "import copy\n",
        "import matplotlib.pyplot as plt"
      ],
      "execution_count": 1,
      "outputs": []
    },
    {
      "cell_type": "markdown",
      "metadata": {
        "id": "SbmrZguMTThd"
      },
      "source": [
        "## Визначення констант"
      ]
    },
    {
      "cell_type": "code",
      "metadata": {
        "id": "sQDRkQFLCOu0"
      },
      "source": [
        "p = 20 # максимальний рекомендований час очікування ліфта\n",
        "q = 80 # максимальний сумарний рекомендований час очікування ліфта та поїздки\n",
        "x_0 = 10 # поверх, з якого ліфт починає роботу\n",
        "s = 1 # час, за який ліфт проїжджає один поверх, сек\n",
        "r = 4 # час зупинки ліфта на поверсі\n",
        "response_time = 0.5 # час, за який алгоритм має повернути відповідь\n",
        "lift_capacity = 5 # скільки людей може витримати ліфт"
      ],
      "execution_count": 2,
      "outputs": []
    },
    {
      "cell_type": "markdown",
      "metadata": {
        "id": "zYRuHcdaTThe"
      },
      "source": [
        "## Визначення функцій"
      ]
    },
    {
      "cell_type": "code",
      "metadata": {
        "id": "quu9XyUOTThe"
      },
      "source": [
        "class Passenger():\n",
        "    def __init__(self, inside_lift, time_waiting, time_total, floor_from, floor_to):\n",
        "        self.inside_lift = inside_lift\n",
        "        self.time_waiting = time_waiting\n",
        "        self.time_total = time_total\n",
        "        self.floor_from = floor_from\n",
        "        self.floor_to = floor_to\n",
        "        self.cost = q / p * time_waiting + time_total\n",
        "\n",
        "    def __repr__(self):\n",
        "        return f\"Passenger <inside_lift={self.inside_lift}; time=[{self.time_waiting}, {self.time_total}]; floors=[{self.floor_from.number}, {self.floor_to.number}], cost={self.cost}>\"\n",
        "\n",
        "    def update_cost(self):\n",
        "        self.cost = q / p * self.time_waiting + self.time_total\n",
        "\n",
        "\n",
        "\n",
        "\n",
        "\n",
        "class Floor():\n",
        "    def __init__(self, number, from_bool):\n",
        "        self.number = number\n",
        "        self.from_bool = from_bool # True, якщо їдуть з цього поверха; False, якщо їдуть на цей поверх; \n",
        "        # None, якщо стартуємо з цього поверху\n",
        "\n",
        "    def __repr__(self):\n",
        "        if self.from_bool == None:\n",
        "            return f\"Floor <{self.number}; start>\"\n",
        "        return f\"Floor <{self.number}; {'from' if self.from_bool else 'to'}>\"\n",
        "\n",
        "    def is_allowed(self, node):\n",
        "        # знаходимо пасажирів, які їдуть на поверх floor і вже в ліфті\n",
        "        # якщо таких нема -- на цей поверх не можна їхати\n",
        "        passengers = list(filter(lambda passenger: passenger.floor_to == self and passenger.inside_lift or\n",
        "            passenger.floor_from == self and not passenger.inside_lift, node.passengers))\n",
        "        if not passengers:\n",
        "            return False\n",
        "        \n",
        "        # якщо ліфт хоче забрати пасажира, а в ньому максимальна кількість людей -- на цей поверх їхати не можна\n",
        "        passengers = list(filter(lambda passenger: passenger.floor_from == self, node.passengers))\n",
        "        if passengers and node.passengers_in_lift == lift_capacity:\n",
        "            return False\n",
        "        return True"
      ],
      "execution_count": 3,
      "outputs": []
    },
    {
      "cell_type": "code",
      "metadata": {
        "id": "uuaIz8IFiXh5"
      },
      "source": [
        "class Node():\n",
        "\n",
        "    def __init__(self, experiment, current_floor, cost_lower_bound, available_floors, passengers, floor_sequence, passengers_in_lift=None, costs_of_arrived=None):\n",
        "        self.experiment = experiment\n",
        "        self.current_floor = current_floor\n",
        "        self.cost_lower_bound = cost_lower_bound\n",
        "        self.available_floors = available_floors\n",
        "        self.passengers = passengers\n",
        "        self.floor_sequence = floor_sequence\n",
        "        self.costs_of_arrived = [] if costs_of_arrived == None else costs_of_arrived\n",
        "        self.passengers_in_lift = passengers_in_lift if passengers_in_lift != None else len(\n",
        "            list(filter(lambda passenger: passenger.inside_lift, self.passengers))\n",
        "        )\n",
        "\n",
        "    # 1. обрати найліпший поверх\n",
        "    def sort_floors(self):\n",
        "        max_costs_for_step = []\n",
        "        for floor in self.available_floors:\n",
        "            # на цей поверх можна поїхати? можна, якщо:\n",
        "            # - пасажир їде з цього поверху і його ще нема в ліфті АБО; \n",
        "            # - пасажир їде на цей поверх і він вже в ліфті\n",
        "            # - ліфт не перевантажено\n",
        "            if not floor.is_allowed(self):\n",
        "                continue\n",
        "            # для кожного пасажира з'ясувати, скільки часу мине, якщо одразу після обраного поверху \n",
        "            # поїхати на потрібний пасажиру поверх\n",
        "            # додати до загального часу час на поїздку між current_floor і floor (time_1) та \n",
        "            # час на поїздку між floor і passenger.floor (time_2)\n",
        "            costs_for_step = []\n",
        "            time_1 = s * abs(self.current_floor.number - floor.number)\n",
        "            for passenger in self.passengers:\n",
        "                if not passenger.inside_lift and floor != passenger.floor_from:\n",
        "                    time_2 = s * abs(floor.number - passenger.floor_from.number) + r * (floor.number != passenger.floor_from.number)\n",
        "                    cost_for_step = passenger.cost + q / p * (time_1 + time_2) + time_1 + time_2\n",
        "                elif not passenger.inside_lift and floor == passenger.floor_from:\n",
        "                    time_2 = s * abs(floor.number - passenger.floor_to.number)\n",
        "                    cost_for_step = passenger.cost + q / p * time_1 + time_1 + time_2\n",
        "                elif passenger.inside_lift and floor != passenger.floor_to:\n",
        "                    time_2 = s * abs(floor.number - passenger.floor_to.number) + r * (floor.number != passenger.floor_to.number)\n",
        "                    cost_for_step = passenger.cost + time_1 + time_2\n",
        "                else:\n",
        "                    time_2 = 0\n",
        "                    cost_for_step = passenger.cost + time_1\n",
        "                costs_for_step.append(cost_for_step)\n",
        "            # з цих вартостей обираємо максимальну (а також зберігаємо поверх)\n",
        "            if self.experiment.mode == \"max\":\n",
        "                max_cost_for_step = max(costs_for_step)\n",
        "            elif self.experiment.mode == \"mean\":\n",
        "                max_cost_for_step = np.mean(costs_for_step)\n",
        "            max_costs_for_step.append({\"floor\": floor, \"cost\": max_cost_for_step})\n",
        "        # сортуємо поверхи за вартістю в порядку зростання\n",
        "        max_costs_for_step.sort(key = lambda dct: dct[\"cost\"])\n",
        "        sorted_floors = list(map(lambda dct: dct[\"floor\"], max_costs_for_step))\n",
        "        #print(\"best:\", sorted_floors[0])\n",
        "        return sorted_floors\n",
        "\n",
        "\n",
        "    # 2. побудувати повну послідовність з цим поверхом, отримати саму послідовність та її вартість\n",
        "    def build_best_sequence(self, best_floor):\n",
        "        # спершу -- оновити час очікування кожного пасажира та видалити пасажира, що дістався пункту призначення\n",
        "        passengers_in_lift = self.passengers_in_lift\n",
        "        new_passengers = []\n",
        "        new_available_floors = []\n",
        "        costs = []\n",
        "        new_cost = self.cost_lower_bound\n",
        "        for passenger in self.passengers:\n",
        "            # з'ясовуємо значення поля inside_lift\n",
        "            # якщо пасажир заходить у ліфт -- змінюємо поле inside_lift\n",
        "            if not passenger.inside_lift and passenger.floor_from == best_floor:\n",
        "                inside_lift = True\n",
        "                passengers_in_lift += 1\n",
        "            else:\n",
        "                inside_lift = passenger.inside_lift\n",
        "\n",
        "            # з'ясовуємо час очікування та загальний час\n",
        "            time_for_stop = r * (self.current_floor.number != best_floor.number)\n",
        "            add_time = s * abs(self.current_floor.number - best_floor.number) + time_for_stop\n",
        "            if best_floor == passenger.floor_to:\n",
        "                add_time -= time_for_stop\n",
        "            if not passenger.inside_lift:\n",
        "                time_waiting = passenger.time_waiting + add_time\n",
        "                time_total = passenger.time_total + add_time\n",
        "            else:\n",
        "                time_waiting = passenger.time_waiting\n",
        "                time_total = passenger.time_total + add_time \n",
        "\n",
        "            # оновлюємо дані про пасажира (для цього створюємо новий інстанс класу Passenger)\n",
        "            new_passenger = Passenger(inside_lift, time_waiting, time_total, passenger.floor_from, passenger.floor_to)\n",
        "            cost = new_passenger.cost\n",
        "            costs.append(cost)\n",
        "\n",
        "            # якщо пасажир доїхав до свого поверху -- більше не розглядаємо його\n",
        "            if best_floor == passenger.floor_to:\n",
        "                passengers_in_lift -= 1\n",
        "                if self.experiment.mode == \"mean\":\n",
        "                    costs.remove(cost)\n",
        "                    self.costs_of_arrived.append(cost)\n",
        "            \n",
        "            else:\n",
        "                new_passengers.append(new_passenger)\n",
        "\n",
        "            #old_floor_from = passenger.floor_from\n",
        "            #new_floor_from = Floor(old_floor_from.number, new_passenger, old_floor_from.from_bool)\n",
        "            #old_floor_to = passenger.floor_to\n",
        "            #new_floor_to = Floor(old_floor_to.number, new_passenger, old_floor_to.from_bool)\n",
        "            #new_passenger.floor_from = new_floor_from\n",
        "            #new_passenger.floor_to = new_floor_to\n",
        "            #new_passengers.append(new_passenger)\n",
        "            #new_available_floors.extend([new_floor_from, new_floor_to])\n",
        "\n",
        "        # з отриманих вартостей знаходимо максимум чи середнє\n",
        "        if self.experiment.mode == \"max\":\n",
        "            cost = max(costs)\n",
        "        elif self.experiment.mode == \"mean\":\n",
        "            costs.extend(self.costs_of_arrived)\n",
        "            cost = np.mean(costs)\n",
        "        # оновлюємо верхню межу вартості\n",
        "        if cost >= new_cost:\n",
        "            new_cost = cost\n",
        "        # якщо дана послідовність вже дає гірший результат, ніж якась інша послідовність, -- зупиняємось (це діє тільки для режиму max; )\n",
        "        if self.experiment.mode == \"max\" and new_cost > self.experiment.best_cost:\n",
        "            #print(\"not good enough, going back. sequence =\", self.floor_sequence + [best_floor], \"cost =\", new_cost)\n",
        "            return None, None\n",
        "\n",
        "        new_available_floors = self.available_floors.copy()\n",
        "        new_available_floors.remove(best_floor)\n",
        "\n",
        "        next_node = Node(\n",
        "            self.experiment,\n",
        "            best_floor, # новий поточний поверх\n",
        "            new_cost,\n",
        "            new_available_floors, # список поверхів без найліпшого поверха\n",
        "            new_passengers,\n",
        "            self.floor_sequence + [best_floor],\n",
        "            passengers_in_lift,\n",
        "            self.costs_of_arrived\n",
        "        )\n",
        "        best_sequence, cost_of_best_sequence = next_node.main()\n",
        "        return best_sequence, cost_of_best_sequence\n",
        "\n",
        "    \n",
        "\n",
        "\n",
        "    def main(self):\n",
        "        # 1. якщо доступних поверхів не залишилось -- доставили останнього пасажира\n",
        "        # повертаємо повну послідовність поверхів та її вартість\n",
        "        if not self.available_floors:\n",
        "            if self.cost_lower_bound <= self.experiment.best_cost:\n",
        "                self.experiment.best_cost = self.cost_lower_bound\n",
        "            #print(self.floor_sequence, self.cost_lower_bound)\n",
        "            #print(\"best so far! sequence =\", self.floor_sequence, \"cost =\", Node.best_cost)\n",
        "            return self.floor_sequence, self.cost_lower_bound\n",
        "\n",
        "        # 2. обрати найліпший поверх\n",
        "        sorted_floors = self.sort_floors()\n",
        "        if len(sorted_floors) == 0:\n",
        "            return None, None\n",
        "        best_floor = sorted_floors.pop(0)\n",
        "\n",
        "        # 3. будуємо повну послідовність з цим поверхом\n",
        "        best_sequence, cost_of_best_sequence = self.build_best_sequence(best_floor)\n",
        "        # через response_time секунд програма має завершити роботу\n",
        "        if time.time() - self.experiment.start_time > response_time:\n",
        "            return best_sequence, cost_of_best_sequence\n",
        "\n",
        "        # 4. будуємо повні послідовності з іншими поверхами, якщо вони ліпші -- зберігаємо\n",
        "        for floor in sorted_floors:\n",
        "            other_sequence, other_cost = self.build_best_sequence(floor)\n",
        "            if other_cost != None and (cost_of_best_sequence == None or other_cost <= cost_of_best_sequence):\n",
        "                best_sequence, cost_of_best_sequence = other_sequence, other_cost\n",
        "\n",
        "        return best_sequence, cost_of_best_sequence\n",
        "\n",
        "        \n"
      ],
      "execution_count": 4,
      "outputs": []
    },
    {
      "cell_type": "code",
      "metadata": {
        "id": "2GHiJMgPidHY"
      },
      "source": [
        "class Experiment():\n",
        "\n",
        "    def __init__(self, mode, start_floor, cost_lower_bound, available_floors, passengers, floor_sequence):\n",
        "        self.start_floor = start_floor\n",
        "        self.mode = mode\n",
        "        self.cost_lower_bound = cost_lower_bound\n",
        "        self.available_floors = available_floors\n",
        "        self.passengers = passengers\n",
        "        self.floor_sequence = floor_sequence\n",
        "        self.best_cost = float(\"inf\")\n",
        "        self.start_time = time.time()\n",
        "\n",
        "    def start(self):\n",
        "        first_node = Node(self, self.start_floor, self.cost_lower_bound, self.available_floors, self.passengers, self.floor_sequence)\n",
        "        return first_node.main()"
      ],
      "execution_count": 5,
      "outputs": []
    },
    {
      "cell_type": "markdown",
      "metadata": {
        "id": "y9E-eO8GDMv0"
      },
      "source": [
        "## Обчислення"
      ]
    },
    {
      "cell_type": "markdown",
      "metadata": {
        "id": "k7FdcdhPiz9i"
      },
      "source": [
        "Тепер покажемо, як алгоритм працює на практиці. Нехай у нас є 5 пасажирів, вони їдуть з різних поверхів на різні поверхи, кожен із пасажирів вже чекає на ліфт певну кількість секунд. Спочатку запустимо наш розроблений алгоритм, а потім просто виконаємо повний перебір усіх перестановок та виведемо послідовність з найменшою вартістю. Порівняємо вартості знайдених послідовностей та час роботи алгоритмів."
      ]
    },
    {
      "cell_type": "code",
      "metadata": {
        "id": "FBJYb-jHDYGl",
        "colab": {
          "base_uri": "https://localhost:8080/"
        },
        "outputId": "80110728-455c-4404-9f4a-d4c5e9df5581"
      },
      "source": [
        "floor1 = Floor(8, True) # з 8-го поверху на 3-й\n",
        "floor2 = Floor(3, False)\n",
        "passenger1 = Passenger(False, 0, 0, floor1, floor2) # чекає вже 0 секунд\n",
        "\n",
        "floor3 = Floor(2, True)\n",
        "floor4 = Floor(7, False)\n",
        "passenger2 = Passenger(False, 0, 0, floor3, floor4)\n",
        "\n",
        "floor5 = Floor(2, True)\n",
        "floor6 = Floor(6, False)\n",
        "passenger3 = Passenger(False, 0, 0, floor5, floor6)\n",
        "\n",
        "floor7 = Floor(1, True)\n",
        "floor8 = Floor(8, False)\n",
        "passenger4 = Passenger(False, 0, 0, floor7, floor8)\n",
        "\n",
        "floor9 = Floor(2, True)\n",
        "floor10 = Floor(8, False)\n",
        "passenger5 = Passenger(False, 16, 16, floor9, floor10)\n",
        "\n",
        "current_floor = Floor(8, None) # ліфт знаходиться на 8-му поверсі\n",
        "\n",
        "start_time = time.time()\n",
        "experiment = Experiment(\"mean\", current_floor, 0, [floor1, floor2, floor3, floor4, floor5, floor6, floor7, floor8, floor9, floor10], [passenger1, passenger2, passenger3, passenger4, passenger5], [current_floor])\n",
        "print(experiment.start())\n",
        "print(\"\\nTime: {:.3f} sec\".format(time.time() - start_time))"
      ],
      "execution_count": 6,
      "outputs": [
        {
          "output_type": "stream",
          "text": [
            "([Floor <8; start>, Floor <8; from>, Floor <2; from>, Floor <2; from>, Floor <2; from>, Floor <1; from>, Floor <3; to>, Floor <6; to>, Floor <8; to>, Floor <8; to>, Floor <7; to>], 80.0)\n",
            "\n",
            "Time: 0.504 sec\n"
          ],
          "name": "stdout"
        }
      ]
    },
    {
      "cell_type": "code",
      "metadata": {
        "colab": {
          "base_uri": "https://localhost:8080/"
        },
        "id": "K3edEgsYm49z",
        "outputId": "6adf256f-e808-4035-91a5-f0c86554a5b6"
      },
      "source": [
        "# повний перебір\n",
        "floors = [floor1, floor2, floor3, floor4, floor5, floor6, floor7, floor8, floor9, floor10]\n",
        "passengers = [passenger1, passenger2, passenger3, passenger4, passenger5]\n",
        "all_sequences = itertools.permutations(floors)\n",
        "results = []\n",
        "\n",
        "start_time = time.time()\n",
        "for sequence in all_sequences:\n",
        "    costs = []\n",
        "    correct_sequence = True\n",
        "    for passenger in passengers:\n",
        "        prev_floor = current_floor\n",
        "        entered = False\n",
        "        exited = False\n",
        "        time_waiting = passenger.time_waiting\n",
        "        time_total = passenger.time_total\n",
        "        for floor in sequence:\n",
        "\n",
        "            add_time = s * abs(floor.number - prev_floor.number) + r * (prev_floor.number != floor.number)\n",
        "            if not entered:\n",
        "                time_waiting += add_time\n",
        "                time_total += add_time\n",
        "            else:\n",
        "                time_total += add_time\n",
        "\n",
        "            if floor == passenger.floor_from and not entered:\n",
        "                entered = True\n",
        "            elif floor == passenger.floor_to and entered:\n",
        "                exited = True\n",
        "                time_total -= r * (prev_floor.number != floor.number)\n",
        "                break\n",
        "\n",
        "            prev_floor = floor\n",
        "\n",
        "        # якщо пасажир не дістався до свого поверху -- послідовність некоректна\n",
        "        if not exited:\n",
        "            correct_sequence = False\n",
        "            break\n",
        "        # інакше обчислюємо вартість для кожного пасажира, зберігаємо найбільшу\n",
        "        cost = q / p * time_waiting + time_total\n",
        "        costs.append(cost)\n",
        "    \n",
        "    # знаходимо максимальну вартість -- це і буде вартість для всієї послідовності\n",
        "    if correct_sequence:\n",
        "        #max_cost = max(costs)\n",
        "        max_cost = np.mean(costs)\n",
        "        results.append({\"sequence\": sequence, \"max_cost\": max_cost})\n",
        "        #print({\"sequence\": sequence, \"max_cost\": max_cost})\n",
        "\n",
        "min_max_cost = min([dct[\"max_cost\"] for dct in results])\n",
        "best_sequences = list(filter(lambda dct: dct[\"max_cost\"] == min_max_cost, results))\n",
        "\n",
        "#for elem in best_sequences:\n",
        "#    print(elem)\n",
        "print(best_sequences[0])\n",
        "print(\"\\nTime: {:.3f} sec\".format(time.time() - start_time))\n",
        "    "
      ],
      "execution_count": 7,
      "outputs": [
        {
          "output_type": "stream",
          "text": [
            "{'sequence': (Floor <8; from>, Floor <2; from>, Floor <2; from>, Floor <2; from>, Floor <1; from>, Floor <3; to>, Floor <6; to>, Floor <8; to>, Floor <8; to>, Floor <7; to>), 'max_cost': 80.0}\n",
            "\n",
            "Time: 58.020 sec\n"
          ],
          "name": "stdout"
        }
      ]
    },
    {
      "cell_type": "markdown",
      "metadata": {
        "id": "WCBL113lIWPe"
      },
      "source": [
        "## Моделювання потоку пасажирів"
      ]
    },
    {
      "cell_type": "markdown",
      "metadata": {
        "id": "ieACRABMnb3t"
      },
      "source": [
        "Бачимо, що обидва алгоритми повернули ідентичні послідовності, причому розроблений алгоритм зміг це зробити за пів секунди, а повний перебір -- за 50 секунд (причому він також відкидав послідовності, які є некоректними, інакше це зайняло би ще більше часу). Але в реальності частіше мають справу з потоком пасажирів: нові пасажири з'являються постійно з випадковим інтервалом часу, навіть коли попередні пасажири ще не доїхали до свого поверху. Щоб продемонструвати, як алгоритм порається з потоком пасажирів (коли при появі нових пасажирів треба заново будувати послідовність поверхів), напишемо окрему функцію, яка буде моделювати потік пасажирів з заданим інтервалом часу. Це також допоможе порівняти роботу алгоритму в режимах \"max\" і \"mean\".\n",
        "\n",
        "Функція **lift_modeler** прийматиме наступні значення:\n",
        "* **passengers_num** -- кількість пасажирів, з яких складається потік\n",
        "* **floors_num** -- кількість поверхів у будинку\n",
        "* **interval_time** -- інтервал часу між появами нових пасажирів\n",
        "* **build_sequence_func** -- функція для отримання оптимальної послідовності поверхів для заданих пасажирів.\n",
        "\n",
        "Також для зручності роботи доповнимо клас Passenger наступними полями:\n",
        "* **abs_time_start** -- момент часу (від початку роботи ліфта), коли пасажир викликає ліфт\n",
        "* **abs_time_depart** -- момент часу, коли пасажир заходить у ліфт\n",
        "* **abs_time_arriv** -- момент часу, коли пасажир виходить з ліфта\n",
        "\n",
        "Принцип роботи функції lift_modeler: спочатку генеруються passengers_num пасажирів з випадковими поверхами відправлення і призначення, а також початковий поверх. Створюємо окремі списки для відстеження пасажирів, що ще не викликали ліфт; пасажирів, які зараз обслуговуються; пасажирів, яких вже доставили. На початку роботи алгоритму момент часу рівний нулю, а обслуговується лише перший пасажир з потоку. Будуємо повну послідовність поверхів для всіх пасажирів, що зараз обслуговуються. Далі проходимо по цій послідовності і оновлюємо дані кожного пасажира (витрачений час, в ліфті чи ні). Паралельно перевіряємо, чи настав час для появи нового пасажира. Якщо ні -- продовжуємо перебирати послідовність поверхів. Якщо так -- чекаємо, коли ліфт доїде до наступного поверху, оновлюємо дані про пасажирів, додаємо цього нового пасажира до розгляду. Повторюємо попередні дії (знову будуємо нову послідовність поверхів), поки не доставимо всіх пасажирів.\n",
        "\n",
        "Викличемо цю функцію разом з методами \"max\" і \"mean\", для кожного методу отримаємо список пасажирів (з часом очікування ліфта та загальним витраченим часом) та остаточну послідовність поверхів, за якою рухався ліфт. Побудуємо графіки того, скільки часу витратив кожен пасажир (вимірюватимемо як час очікування на ліфт, так і загальний час). Нам необхідно, щоб час очікування не перевищував p секунд, а загальний час -- q секунд (а якщо й перевищував, то не сильно)."
      ]
    },
    {
      "cell_type": "code",
      "metadata": {
        "id": "EBIxZgl7Bn9U"
      },
      "source": [
        "class PassengerExtended(Passenger):\n",
        "    def __init__(self, inside_lift, time_waiting, time_total, floor_from, floor_to, abs_time_start, abs_time_depart, abs_time_arriv):\n",
        "        super().__init__(inside_lift, time_waiting, time_total, floor_from, floor_to)\n",
        "        self.abs_time_start = abs_time_start\n",
        "        self.abs_time_depart = abs_time_depart\n",
        "        self.abs_time_arriv = abs_time_arriv\n",
        "\n",
        "    def __repr__(self):\n",
        "        return f\"Passenger <inside_lift={self.inside_lift}; relative_time=[{self.time_waiting}, {self.time_total}]; floors=[{self.floor_from.number}, {self.floor_to.number}], cost={self.cost}, absolute_time=[{self.abs_time_start}, {self.abs_time_depart}, {self.abs_time_arriv}]>\""
      ],
      "execution_count": 8,
      "outputs": []
    },
    {
      "cell_type": "code",
      "metadata": {
        "id": "LYNFxbJ5IgtV"
      },
      "source": [
        "def optimized_algorithm(mode, start_floor, cost_lower_bound, available_floors, passengers, floor_sequence):\n",
        "    # Функція, яка будує послідовність поверхів\n",
        "    experiment = Experiment(mode, start_floor, cost_lower_bound, available_floors, passengers, floor_sequence)\n",
        "    sequence = experiment.start()[0]\n",
        "    return sequence\n",
        "\n",
        "\n",
        "\n",
        "def lift_modeler(passengers_num, floors_num, interval_time, build_sequence_func, **kwargs):\n",
        "    # Функція для моделювання роботи ліфта за заданим алгоритмом\n",
        "    # passengers_num -- кількість пасажирів\n",
        "    # floors_num -- кількість поверхів у будинку\n",
        "    # interval_time -- середный проміжок часу між генерацією нових пасажирів\n",
        "    # build_sequence_func -- функція для отримання послідовності поверхів\n",
        "\n",
        "    # спочатку генеруємо пасажирів\n",
        "    abs_time = 0\n",
        "    start_floor = Floor(np.random.randint(1, floors_num+1), None)\n",
        "    floors_combinations = list(itertools.permutations(range(1, floors_num+1), 2))\n",
        "    passengers_not_served = []\n",
        "    passengers_being_served = []\n",
        "    passengers_arrived = []\n",
        "    floors = []\n",
        "    ultimate_sequence = [start_floor]\n",
        "    abs_time_start = 0\n",
        "    for i in range(passengers_num):\n",
        "        pair_of_floors = random.choice(floors_combinations)\n",
        "        floor_1 = Floor(pair_of_floors[0], True)\n",
        "        floor_2 = Floor(pair_of_floors[1], False)\n",
        "        floors.append(floor_1)\n",
        "        floors.append(floor_2)\n",
        "        #passenger = PassengerExtended(False, 0, 0, floor_1, floor_2, interval_time * i, None, None)\n",
        "        if i == 0:\n",
        "            passenger = PassengerExtended(False, 0, 0, floor_1, floor_2, 0, None, None)\n",
        "        else:\n",
        "            passenger = PassengerExtended(False, 0, 0, floor_1, floor_2, abs_time_start, None, None)\n",
        "        abs_time_start += np.random.exponential(interval_time)\n",
        "        passengers_not_served.append(passenger)\n",
        "    # перші пасажири, які вже викликали ліфт\n",
        "    new_passengers = list(filter(lambda passenger: passenger.abs_time_start <= abs_time, passengers_not_served))\n",
        "    passengers_being_served.extend(new_passengers)\n",
        "    passengers_not_served = [passenger for passenger in passengers_not_served if passenger not in passengers_being_served]\n",
        "\n",
        "\n",
        "    # поки не доставили всіх пасажирів\n",
        "    while len(passengers_arrived) != passengers_num:        \n",
        "\n",
        "        # 1. побудувати нову послідовність поверхів, проходити по цій послідовності, поки новий пасажир не викличе ліфт\n",
        "        kwargs[\"start_floor\"] = start_floor\n",
        "        kwargs[\"available_floors\"] = [passenger.floor_from for passenger in passengers_being_served if not passenger.inside_lift] + [\n",
        "                                      passenger.floor_to for passenger in passengers_being_served]\n",
        "        kwargs[\"floor_sequence\"] = [start_floor]\n",
        "        kwargs[\"passengers\"] = passengers_being_served.copy()\n",
        "        sequence = build_sequence_func(**kwargs)\n",
        "\n",
        "        for i in range(1, len(sequence)):\n",
        "            floor, prev_floor = sequence[i], sequence[i-1]\n",
        "            ultimate_sequence.append(floor)\n",
        "            time_between_floors = s * abs(floor.number - prev_floor.number) + r * (floor.number != prev_floor.number)\n",
        "            abs_time += time_between_floors\n",
        "\n",
        "            # 2. оновлювати інформацію про пасажирів до того моменту, поки не з'явиться новий пасажир\n",
        "            for passenger in passengers_being_served:\n",
        "                # якщо пасажир ще не в ліфті або тільки заходить у ліфт\n",
        "                if not passenger.inside_lift:\n",
        "                    passenger.time_waiting += time_between_floors\n",
        "                    passenger.time_total += time_between_floors\n",
        "                    # якщо пасажир заходить у ліфт\n",
        "                    if passenger.floor_from == floor:\n",
        "                        passenger.inside_lift = True\n",
        "                        passenger.abs_time_depart = abs_time\n",
        "                # якщо ж пасажир у ліфті\n",
        "                else:\n",
        "                    passenger.time_total += time_between_floors\n",
        "                    # якщо пасажир виходить з ліфта\n",
        "                    if passenger.floor_to == floor:\n",
        "                        passenger.time_total -= r * (floor.number != prev_floor.number)\n",
        "                        passenger.inside_lift = False\n",
        "                        passenger.abs_time_arriv = abs_time - r * (floor.number != prev_floor.number)\n",
        "                        passengers_being_served.remove(passenger)\n",
        "                        passengers_arrived.append(passenger)\n",
        "                passenger.update_cost()\n",
        "\n",
        "            # 3. якщо нові пасажири викликали ліфт\n",
        "            new_passengers = list(filter(lambda passenger: passenger.abs_time_start <= abs_time, passengers_not_served))\n",
        "            if new_passengers:\n",
        "                for new_passenger in new_passengers:\n",
        "                    # оновити час, додати в список пасажирів, що обслуговуються\n",
        "                    passengers_not_served.remove(new_passenger)\n",
        "                    passengers_being_served.append(new_passenger)\n",
        "                    new_passenger.time_waiting += abs_time - new_passenger.abs_time_start\n",
        "                    new_passenger.time_total += abs_time - new_passenger.abs_time_start\n",
        "                    start_floor = copy.deepcopy(floor)\n",
        "                    start_floor.from_bool = None\n",
        "                break\n",
        "\n",
        "\n",
        "    return {\"passengers\": passengers_arrived, \"sequence\": ultimate_sequence}\n",
        "\n"
      ],
      "execution_count": 9,
      "outputs": []
    },
    {
      "cell_type": "code",
      "metadata": {
        "id": "1VTIyUiwAfb9"
      },
      "source": [
        "def compare_methods(passengers_num, floors_num, interval_time, \n",
        "    p, q, s, r, response_time, lift_capacity):\n",
        "\n",
        "  fix, axs = plt.subplots(2, figsize=(30, 15))\n",
        "\n",
        "  # for reproducibility\n",
        "  np.random.seed(29)\n",
        "  random.seed(29)\n",
        "\n",
        "  modes = (\"mean\", \"max\")\n",
        "  for i in range(len(modes)):\n",
        "      mode = modes[i]\n",
        "      print(\"mode:\", mode)\n",
        "\n",
        "      result = lift_modeler(passengers_num, floors_num, interval_time, \n",
        "                            optimized_algorithm, mode=mode, cost_lower_bound=0)\n",
        "      passengers = result[\"passengers\"]\n",
        "      passengers.sort(key = lambda passenger: passenger.abs_time_start)\n",
        "      sequence = result[\"sequence\"]\n",
        "      #for floor in sequence:\n",
        "      #   print(floor)\n",
        "      #for passenger in passengers:\n",
        "      #   print(passenger)\n",
        "      print(\"mean waiting time:\", np.mean([passenger.time_waiting for passenger in passengers]))\n",
        "      print(\"max waiting time:\", max([passenger.time_waiting for passenger in passengers]))\n",
        "      print(\"mean total time:\", np.mean([passenger.time_total for passenger in passengers]))\n",
        "      print(\"max total time:\", max([passenger.time_total for passenger in passengers]))\n",
        "      print()\n",
        "\n",
        "      # будуємо графіки\n",
        "      j = 0 # номер пасажира\n",
        "      for passenger in passengers:\n",
        "          # спочатку відображаємо час очікування на ліфт\n",
        "          if passenger.time_waiting <= p:\n",
        "              axs[i].plot((passenger.abs_time_start, passenger.abs_time_depart), (j, j), \"g-\")\n",
        "          else:\n",
        "              axs[i].plot((passenger.abs_time_start, passenger.abs_time_start + p), (j, j), \"g-\")\n",
        "              axs[i].plot((passenger.abs_time_start + p, passenger.abs_time_depart), (j, j), \"r-\")\n",
        "          axs[i].plot(passenger.abs_time_depart, j, \"go\")\n",
        "          # а далі -- час загальної поїздки\n",
        "          if passenger.time_total <= q:\n",
        "              axs[i].plot((passenger.abs_time_depart, passenger.abs_time_arriv), (j, j), \"b-\")\n",
        "          elif passenger.time_waiting <= q:\n",
        "              axs[i].plot((passenger.abs_time_depart, passenger.abs_time_start + q), (j, j), \"b-\")\n",
        "              axs[i].plot((passenger.abs_time_start + q, passenger.abs_time_arriv), (j, j), \"r-\")\n",
        "          else:\n",
        "              axs[i].plot((passenger.abs_time_depart, passenger.abs_time_arriv), (j, j), \"r-\")\n",
        "          j += 1\n",
        "\n",
        "      axs[i].set_title(f\"Mode: {mode}, p = {p}, q = {q}\")\n",
        "\n",
        "\n",
        "  plt.show()"
      ],
      "execution_count": 10,
      "outputs": []
    },
    {
      "cell_type": "code",
      "metadata": {
        "colab": {
          "base_uri": "https://localhost:8080/",
          "height": 827
        },
        "id": "TTVUCqGRC22J",
        "outputId": "5164dbed-0f96-4844-a30f-aac4c3e55679"
      },
      "source": [
        "passengers_num = 35 # потік з 40-ка пасажирів \n",
        "floors_num = 9 # 9-поверховий будинок\n",
        "interval_time = 6 # кожні 6 секунд новий пасажир викликає ліфт\n",
        "\n",
        "p = 20 # максимальний рекомендований час очікування ліфта\n",
        "q = 80 # максимальний сумарний рекомендований час очікування ліфта та поїздки\n",
        "s = 1 # час, за який ліфт проїжджає один поверх, сек\n",
        "r = 4 # час зупинки ліфта на поверсі\n",
        "response_time = 0.5 # час, за який алгоритм має повернути відповідь\n",
        "lift_capacity = 5 # кількість людей, яку може витримати ліфт\n",
        "\n",
        "compare_methods(passengers_num, floors_num, interval_time, \n",
        "    p, q, s, r, response_time, lift_capacity)"
      ],
      "execution_count": 11,
      "outputs": [
        {
          "output_type": "stream",
          "text": [
            "mode: mean\n",
            "mean waiting time: 27.89596361366445\n",
            "max waiting time: 155.84644871395764\n",
            "mean total time: 49.3531064708073\n",
            "max total time: 170.84644871395764\n",
            "\n",
            "mode: max\n",
            "mean waiting time: 11.612720689456863\n",
            "max waiting time: 22.65391588403351\n",
            "mean total time: 31.469863546599722\n",
            "max total time: 64.24758487433033\n",
            "\n"
          ],
          "name": "stdout"
        },
        {
          "output_type": "display_data",
          "data": {
            "image/png": "[encoded data removed]",
            "text/plain": [
              "<Figure size 2160x1080 with 2 Axes>"
            ]
          },
          "metadata": {
            "tags": [],
            "needs_background": "light"
          }
        }
      ]
    },
    {
      "cell_type": "markdown",
      "metadata": {
        "id": "Ck-kxrFjD9oi"
      },
      "source": [
        "Ці графіки слід інтерпретувати наступним чином: вісь Х -- це час від початку моделювання, вісь Y -- номер пасажира. Кожна горизонтальна лінія -- це окремий пасажир. Зелена лінія -- це час очікування ліфта, зелена крапка -- момент, коли ліфт забирає пасажира, синя лінія -- загальний витрачений час, червона лінія означає, що перевищено час очікування (якщо зліва від зеленої крапки), або загальний час (якщо справа від зеленої крапки), або все разом.\n",
        "\n",
        "Загалом ми бачимо, що для заданих початкових умов (потік з 35-ти пасажирів, в середньому нові пасажири з'являються кожні 6 секунд) найліпше впорався режим \"max\": порушень обмежень майже не відбувалось, чого не можна сказати про режим \"mean\". Більш того, при режимі \"mean\" ліфт ігнорує деяких пасажирів, бо постійно розвозить інших. Але для інших початкових даних ми можемо отримати інші результати: збільшимо інтенсивність потоку, щоб нові пасажири з'являлися в середньому кожні 5 секунд, а потім -- кожні 4 секунди."
      ]
    },
    {
      "cell_type": "code",
      "metadata": {
        "colab": {
          "base_uri": "https://localhost:8080/",
          "height": 827
        },
        "id": "J6MlPFJ7WjYN",
        "outputId": "549d84b7-87b5-4744-aad1-98d7289eb33a"
      },
      "source": [
        "passengers_num = 35 # потік з 40-ка пасажирів \n",
        "floors_num = 9 # 9-поверховий будинок\n",
        "interval_time = 5\n",
        "\n",
        "p = 20 # максимальний рекомендований час очікування ліфта\n",
        "q = 80 # максимальний сумарний рекомендований час очікування ліфта та поїздки\n",
        "s = 1 # час, за який ліфт проїжджає один поверх, сек\n",
        "r = 4 # час зупинки ліфта на поверсі\n",
        "response_time = 0.5 # час, за який алгоритм має повернути відповідь\n",
        "lift_capacity = 5 # кількість людей, яку може витримати ліфт\n",
        "\n",
        "compare_methods(passengers_num, floors_num, interval_time, \n",
        "    p, q, s, r, response_time, lift_capacity)"
      ],
      "execution_count": 12,
      "outputs": [
        {
          "output_type": "stream",
          "text": [
            "mode: mean\n",
            "mean waiting time: 27.80854110662512\n",
            "max waiting time: 154.53870726163137\n",
            "mean total time: 47.06568396376798\n",
            "max total time: 167.53870726163137\n",
            "\n",
            "mode: max\n",
            "mean waiting time: 15.267743431690244\n",
            "max waiting time: 26.99264154448977\n",
            "mean total time: 35.610600574547384\n",
            "max total time: 91.03965406194195\n",
            "\n"
          ],
          "name": "stdout"
        },
        {
          "output_type": "display_data",
          "data": {
            "image/png": "[encoded data removed]",
            "text/plain": [
              "<Figure size 2160x1080 with 2 Axes>"
            ]
          },
          "metadata": {
            "tags": [],
            "needs_background": "light"
          }
        }
      ]
    },
    {
      "cell_type": "code",
      "metadata": {
        "colab": {
          "base_uri": "https://localhost:8080/",
          "height": 825
        },
        "id": "wKm0xENSXA2i",
        "outputId": "99bacab8-18e6-407b-e0cf-40a5e7626b5b"
      },
      "source": [
        "passengers_num = 35 # потік з 40-ка пасажирів \n",
        "floors_num = 9 # 9-поверховий будинок\n",
        "interval_time = 4\n",
        "\n",
        "p = 20 # максимальний рекомендований час очікування ліфта\n",
        "q = 80 # максимальний сумарний рекомендований час очікування ліфта та поїздки\n",
        "s = 1 # час, за який ліфт проїжджає один поверх, сек\n",
        "r = 4 # час зупинки ліфта на поверсі\n",
        "response_time = 0.5 # час, за який алгоритм має повернути відповідь\n",
        "lift_capacity = 5 # кількість людей, яку може витримати ліфт\n",
        "\n",
        "compare_methods(passengers_num, floors_num, interval_time, \n",
        "    p, q, s, r, response_time, lift_capacity)"
      ],
      "execution_count": 13,
      "outputs": [
        {
          "output_type": "stream",
          "text": [
            "mode: mean\n",
            "mean waiting time: 40.03540431387154\n",
            "max waiting time: 160.23096580930508\n",
            "mean total time: 57.406832885300105\n",
            "max total time: 171.49515585877856\n",
            "\n",
            "mode: max\n",
            "mean waiting time: 39.8084804596379\n",
            "max waiting time: 101.5941132355918\n",
            "mean total time: 65.63705188820933\n",
            "max total time: 117.22309994907008\n",
            "\n"
          ],
          "name": "stdout"
        },
        {
          "output_type": "display_data",
          "data": {
            "image/png": "[encoded data removed]",
            "text/plain": [
              "<Figure size 2160x1080 with 2 Axes>"
            ]
          },
          "metadata": {
            "tags": [],
            "needs_background": "light"
          }
        }
      ]
    },
    {
      "cell_type": "markdown",
      "metadata": {
        "id": "y6jczUYEXIQ3"
      },
      "source": [
        "Отримали наступні результати: для інтенсивності потоку $\\lambda = 0.2$ (новий пасажир кожні 5 секунд) режим \"max\" все ще дає прийнятний результат, але для $\\lambda = 0.25$ (новий пасажир кожні 4 секунди) ліфт в обох режимах перестає поратись з потоком пасажирів. Причому для режиму \"max\" (якщо пасажирів стає занадто багато) можна помітити наступну тенденцію: чим більше людей користуються ліфтом, тим довше вони чекатимуть на нього (у верхній половині графіка більше червоних ліній). Ця проблема менш помітна в режимі \"mean\", але натомість одні пасажири дістаються свого поверху дуже швидко, а інші -- дуже довго."
      ]
    },
    {
      "cell_type": "markdown",
      "metadata": {
        "id": "PgT67G1AInlY"
      },
      "source": [
        "# Висновки"
      ]
    },
    {
      "cell_type": "markdown",
      "metadata": {
        "id": "j3rprK0AIpsV"
      },
      "source": [
        "У ході виконання курсової роботи склали математичну модель задачі оптимізації роботи ліфта, а також намагалися розв'язати складену задачу різними методами. Переконалися, що найліпше працюють ті методи, які, власне, призначені для даного класу задач. Так, спочатку оптимальна послідовність поверхів шукалася звичайними методами нульового порядку (метод Нелдера-Міда, метод штрафних функцій), але вони не враховують усіх особливостей проблемної області. Конкретно в цій задачі вони не враховують, що змінні мають бути цілочисельними, що не кожну послідовність поверхів можна вважати коректною, що необхідно також слідкувати за завантаженістю ліфта. Звичайно, ці недоліки намагались бути виправленими, але це призвело до ускладнення задачі та виродження цільової функції (вона стала неунімодальною). Потім було вирішено використати методи цілочисельного (комбінаторного) програмування, причому алгоритм було складено не за одним методом -- алгоритм являє собою комбінацію різних методів і прийомів (метод гілок і меж, жадібний алгоритм). Тобто переконалися, що найліпший результат дають алгоритми, розроблені саме під задану конкретну задачу.\n",
        "\n",
        "Було реалізовано розроблений алгоритм мовою Python, а також перевірено його роботу за допомогою повного перебору. Для п'ятьох пасажирів алгоритм видав той самий результат, що і повний перебір, причому зробив це у 100 разів швидше (а це особливо важливо, оскільки ця система має працювати в режимі реального часу). Також порівняли роботу алгоритму, якщо в цільовій функції використано функції максимуму та середнього значення. Якщо потік пасажирів не дуже інтенсивний (інтервал часу між появою нових пасажирів -- в середньому 5-6 секунд), то використання функції максимуму дає чудові результати, обмеження на час майже завжди виконуються. Але чим більше стає пасажирів, тим гірше ліфт порається зі своєю роботою (незалежно від методу). Один із можливих варіантів вдосконалення роботи алгоритму -- накладати на цільову функцію дуже жорсткий штраф, якщо пасажир чекає занадто довго (скажімо, 60 чи 100 секунд) -- в такому випадку ліфт обов'язкове поїде забирати до цих пасажирів, що витратили надто багато часу.\n",
        "\n"
      ]
    },
    {
      "cell_type": "markdown",
      "metadata": {
        "id": "iEbNXiqmTTh0"
      },
      "source": [
        "# Автори"
      ]
    },
    {
      "cell_type": "markdown",
      "metadata": {
        "id": "mLedG4iETTh0"
      },
      "source": [
        "[Юдін Гліб, КМ-82](https://github.com/hlib-yudin)"
      ]
    },
    {
      "cell_type": "markdown",
      "metadata": {
        "id": "6C25CbDQI6FQ"
      },
      "source": [
        "# Використані джерела"
      ]
    },
    {
      "cell_type": "markdown",
      "metadata": {
        "id": "35Hda0hJI9wc"
      },
      "source": [
        "1. [*Albert Einstein Fernandes Muritiba.* Algorithms and Models For Combinatorial Optimization Problems. 2010.](https://core.ac.uk/download/pdf/11012814.pdf)\n",
        "2. [*Luca Trevisan.* Combinatorial Optimization: Exact and Approximate Algorithms. Stanford University, 2011.](https://theory.stanford.edu/~trevisan/books/cs261.pdf)\n",
        "3. [Combinatorial optimization -- Wikipedia.](https://en.wikipedia.org/wiki/Combinatorial_optimization)\n",
        "4. [Integer optimization -- Wikipedia.](https://en.wikipedia.org/wiki/Integer_programming)\n",
        "5. [*Austin G. Walters.* Everyday Algorithms: Elevator Allocation.](https://austingwalters.com/everyday-algorithms-elevator-allocation/)\n",
        "6. [*Олег Борисенков.* Как работает лифт в небоскребах? Алгоритмы + задачи с собеседований.](https://tproger.ru/articles/kak-rabotaet-lift-v-neboskrebah-algoritmy-i-zadachi-s-sobesedovanij/)\n",
        "7. [*Популярная механика.* Сложный алгоритм: как работают лифты.](https://www.popmech.ru/technologies/522444-slozhnyy-algoritm-kak-rabotayut-lifty/)"
      ]
    }
  ]
}